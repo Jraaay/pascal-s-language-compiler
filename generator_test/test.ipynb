{
 "cells": [
  {
   "cell_type": "code",
   "execution_count": 7,
   "metadata": {},
   "outputs": [
    {
     "name": "stdout",
     "output_type": "stream",
     "text": [
      "asdfasd123\n"
     ]
    }
   ],
   "source": [
    "def t_DIGITS(t):\n",
    "    r'\\d+'\n",
    "    return t\n",
    "print(t_DIGITS(\"asdfasd123\"))"
   ]
  }
 ],
 "metadata": {
  "interpreter": {
   "hash": "f5e9747a037808f9fcd47583a3542763d82a390cdf8646019d5bb7045de3ef49"
  },
  "kernelspec": {
   "display_name": "Python 3.10.0 64-bit",
   "language": "python",
   "name": "python3"
  },
  "language_info": {
   "codemirror_mode": {
    "name": "ipython",
    "version": 3
   },
   "file_extension": ".py",
   "mimetype": "text/x-python",
   "name": "python",
   "nbconvert_exporter": "python",
   "pygments_lexer": "ipython3",
   "version": "3.10.0"
  },
  "orig_nbformat": 4
 },
 "nbformat": 4,
 "nbformat_minor": 2
}
